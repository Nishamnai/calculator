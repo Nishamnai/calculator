{
 "cells": [
  {
   "cell_type": "code",
   "execution_count": 1,
   "id": "6010a6d1",
   "metadata": {},
   "outputs": [
    {
     "name": "stdout",
     "output_type": "stream",
     "text": [
      "Mini calculator\n",
      "enter first number here:5\n",
      "enter second number here:33\n",
      "press1 for addition\n",
      "press 2for subtraction\n",
      "press 3 for multiplication\n",
      "press 4 for division\n",
      "enter your choice from 1-4: 3\n",
      "The multiplicatio of given two numbers is 165.0\n"
     ]
    }
   ],
   "source": [
    "print (\"Mini calculator\")\n",
    "\n",
    "\n",
    "num1 = float(input(\"enter first number here:\"))\n",
    "num2 = float(input(\"enter second number here:\"))\n",
    "\n",
    "\n",
    "print (\"press1 for addition\\npress 2for subtraction\\npress 3 for multiplication\\npress 4 for division\")\n",
    "\n",
    "\n",
    "choice = int(input(\"enter your choice from 1-4: \"))\n",
    "\n",
    "if choice == 1:\n",
    "    print (\"The addition of given two numbers is\",num1 + num2)\n",
    "elif choice == 2:\n",
    "    print (\"The subtraction of given two numbers is\",num1 - num2)\n",
    "elif choice == 3:\n",
    "    print (\"The multiplicatio of given two numbers is\",num1 * num2)\n",
    "elif choice == 4:\n",
    "    print (\"The division of given two numbers is\",num1 / num2)\n",
    "else:\n",
    "    print (\"Invalid Input\")\n",
    "    "
   ]
  },
  {
   "cell_type": "code",
   "execution_count": null,
   "id": "045972f7",
   "metadata": {},
   "outputs": [],
   "source": []
  },
  {
   "cell_type": "code",
   "execution_count": null,
   "id": "53ef477a",
   "metadata": {},
   "outputs": [],
   "source": []
  }
 ],
 "metadata": {
  "kernelspec": {
   "display_name": "Python 3 (ipykernel)",
   "language": "python",
   "name": "python3"
  },
  "language_info": {
   "codemirror_mode": {
    "name": "ipython",
    "version": 3
   },
   "file_extension": ".py",
   "mimetype": "text/x-python",
   "name": "python",
   "nbconvert_exporter": "python",
   "pygments_lexer": "ipython3",
   "version": "3.11.4"
  }
 },
 "nbformat": 4,
 "nbformat_minor": 5
}
